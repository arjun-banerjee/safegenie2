{
 "cells": [
  {
   "cell_type": "code",
   "execution_count": 1,
   "id": "d480587a",
   "metadata": {},
   "outputs": [],
   "source": [
    "import numpy as np\n",
    "import pandas as pd \n",
    "import matplotlib.pyplot as plt\n",
    "import requests\n",
    "from io import StringIO\n",
    "from time import sleep\n",
    "import re\n",
    "import time\n",
    "\n",
    "from pathlib import Path\n",
    "from typing import Iterable, Dict, Set"
   ]
  },
  {
   "cell_type": "code",
   "execution_count": 2,
   "id": "b39c3ba0",
   "metadata": {},
   "outputs": [],
   "source": [
    "def pdbid_to_uniprot_length(pdb_id):\n",
    "    pdb_id = pdb_id.upper()\n",
    "    url = f\"https://www.ebi.ac.uk/pdbe/api/mappings/uniprot/{pdb_id}\"\n",
    "    r = requests.get(url)\n",
    "    r.raise_for_status()\n",
    "    data = r.json()\n",
    "    if pdb_id not in data:\n",
    "        return None\n",
    "    results = []\n",
    "    for up, details in data[pdb_id][\"UniProt\"].items():\n",
    "        length = details[\"sequence\"][\"length\"]\n",
    "        results.append((up, length))\n",
    "    return results  # list of (UniProtID, length)\n",
    "\n",
    "# Example:\n",
    "# print(pdbid_to_uniprot_length(\"4HHB\"))\n",
    "# [('P69905', 142), ('P68871', 147)]\n"
   ]
  },
  {
   "cell_type": "code",
   "execution_count": 3,
   "id": "ea3179df",
   "metadata": {},
   "outputs": [
    {
     "name": "stdout",
     "output_type": "stream",
     "text": [
      "['1lg4.pdb', '1qm3.pdb', '2iv6.pdb', '1qm2.pdb', '1qm0.pdb', '1oei.pdb', '2iv5.pdb', '2iv4.pdb', '1oeh.pdb', '1e1j.pdb', '1dwz.pdb', '1ag2.pdb', '1e1g.pdb', '1e1p.pdb', '1dwy.pdb', '1e1s.pdb', '1e1w.pdb', '1qlx.pdb', '1qlz.pdb', '1e1u.pdb', '1dx0.pdb', '1hjn.pdb', '1b10.pdb', '1hjm.pdb']\n"
     ]
    }
   ],
   "source": [
    "folder = Path(\"prion_pdbs\")\n",
    "files = [f.name for f in folder.iterdir() if (f.is_file() and f.name.endswith(\".pdb\"))]\n",
    "print(files)"
   ]
  },
  {
   "cell_type": "code",
   "execution_count": 4,
   "id": "2676b71c",
   "metadata": {},
   "outputs": [],
   "source": [
    "# valid = []\n",
    "# not_valid = []\n",
    "# length_limit = 256\n",
    "# for fname in files:\n",
    "#     time.sleep(5)\n",
    "#     if fname is None:\n",
    "#         continue\n",
    "#     a = pdbid_to_uniprot_length(fname[:-4])\n",
    "#     if a is None:\n",
    "#         print(\"watch out for : \" + str(fname))\n",
    "#     if (not fname.endswith(\".pdb\")) or (a and a[1] < length_limit):\n",
    "#         not_valid.append(fname)\n",
    "#     else:\n",
    "#         valid.append(fname)\n",
    "        \n",
    "# valid, not_valid"
   ]
  },
  {
   "cell_type": "code",
   "execution_count": 5,
   "id": "eb5bb0cb",
   "metadata": {},
   "outputs": [],
   "source": [
    "def parse_pdb(pdb_path):\n",
    "    \"\"\"\n",
    "    Parse a PDB file line by line.\n",
    "    Returns:\n",
    "      atoms:  list of dicts (serial, name, resname, chain, resseq, x,y,z)\n",
    "      helices: list of dicts (helix_id, start_res, start_chain, end_res, end_chain, length)\n",
    "    \"\"\"\n",
    "    atoms, helices = [], []\n",
    "    atom_lines = []\n",
    "    with open(pdb_path) as f:\n",
    "        for line in f:\n",
    "            record = line[0:6].strip()\n",
    "\n",
    "            # ---- ATOM records ----\n",
    "            if record == \"ATOM\":\n",
    "                atoms.append({\n",
    "                    \"serial\":   int(line[6:11]),\n",
    "                    \"name\":     line[12:16].strip(),\n",
    "                    \"resname\":  line[17:20].strip(),\n",
    "                    \"chain\":    line[21].strip(),\n",
    "                    \"resseq\":   int(line[22:26]),\n",
    "                    \"x\":        float(line[30:38]),\n",
    "                    \"y\":        float(line[38:46]),\n",
    "                    \"z\":        float(line[46:54]),\n",
    "                    \"occ\":      float(line[54:60] or 0),\n",
    "                    \"bfac\":     float(line[60:66] or 0),\n",
    "                })\n",
    "                atom_lines.append(str(line))\n",
    "\n",
    "            # ---- HELIX records ----\n",
    "            elif record == \"HELIX\":\n",
    "                helices.append({\n",
    "                    \"ser_num\":    line[7:10].strip(),       # helix serial number\n",
    "                    \"helix_id\":   line[11:14].strip(),      # helix identifier\n",
    "                    \"start_res\":  line[15:18].strip(),      # initial residue name\n",
    "                    \"start_chain\":line[19].strip(),         # chain identifier\n",
    "                    \"start_seq\":  int(line[21:25]),         # start residue sequence number\n",
    "                    \"end_res\":    line[27:30].strip(),      # ending residue name\n",
    "                    \"end_chain\":  line[31].strip(),         # chain identifier\n",
    "                    \"end_seq\":    int(line[33:37]),         # end residue sequence number\n",
    "                    \"helix_class\":line[38:40].strip(),\n",
    "                    \"length\":     int(line[71:76]),\n",
    "                })\n",
    "\n",
    "    return atom_lines, helices"
   ]
  },
  {
   "cell_type": "code",
   "execution_count": 6,
   "id": "76d210b2",
   "metadata": {},
   "outputs": [],
   "source": [
    "# now retrieve residue numbers and atomic coords\n",
    "folder = \"prion_pdbs\"\n",
    "for pdb in files:\n",
    "    fname = f\"{folder}/{pdb}\"\n",
    "    atoms, helices = parse_pdb(fname)\n",
    "    # now process atomic coords\n",
    "    atom_file_name = f\"prion_atomic_coords/{pdb}\"\n",
    "    with open(atom_file_name, 'w') as f:\n",
    "        for line in atoms:\n",
    "            f.write(line)"
   ]
  },
  {
   "cell_type": "code",
   "execution_count": null,
   "id": "926e0591",
   "metadata": {},
   "outputs": [],
   "source": []
  }
 ],
 "metadata": {
  "kernelspec": {
   "display_name": "esmfold_2",
   "language": "python",
   "name": "python3"
  },
  "language_info": {
   "codemirror_mode": {
    "name": "ipython",
    "version": 3
   },
   "file_extension": ".py",
   "mimetype": "text/x-python",
   "name": "python",
   "nbconvert_exporter": "python",
   "pygments_lexer": "ipython3",
   "version": "3.8.20"
  }
 },
 "nbformat": 4,
 "nbformat_minor": 5
}
