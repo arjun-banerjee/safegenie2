{
 "cells": [
  {
   "cell_type": "code",
   "execution_count": 1,
   "id": "768c1513",
   "metadata": {},
   "outputs": [],
   "source": [
    "import os\n",
    "import torch\n",
    "import pandas as pd\n",
    "from esm import pretrained, Alphabet, BatchConverter"
   ]
  },
  {
   "cell_type": "code",
   "execution_count": 2,
   "id": "4e1a5408",
   "metadata": {},
   "outputs": [
    {
     "data": {
      "text/plain": [
       "<torch.autograd.grad_mode.set_grad_enabled at 0x7f6581a0b5b0>"
      ]
     },
     "execution_count": 2,
     "metadata": {},
     "output_type": "execute_result"
    }
   ],
   "source": [
    "from typing import List, Tuple, Optional, Dict, NamedTuple, Union, Callable\n",
    "import itertools\n",
    "import os\n",
    "import string\n",
    "from pathlib import Path\n",
    "\n",
    "import numpy as np\n",
    "import torch\n",
    "from scipy.spatial.distance import squareform, pdist, cdist\n",
    "import matplotlib.pyplot as plt\n",
    "import matplotlib as mpl\n",
    "from Bio import SeqIO\n",
    "from tqdm import tqdm\n",
    "import pandas as pd\n",
    "import seaborn as sns\n",
    "\n",
    "import esm\n",
    "\n",
    "torch.set_grad_enabled(False)"
   ]
  },
  {
   "cell_type": "code",
   "execution_count": 3,
   "id": "65e4bcdc",
   "metadata": {},
   "outputs": [],
   "source": [
    "esm2, esm2_alphabet = esm.pretrained.esm2_t6_8M_UR50D()\n",
    "esm2 = esm2.eval().to(\"cuda\")\n",
    "esm2_batch_converter = esm2_alphabet.get_batch_converter()"
   ]
  },
  {
   "cell_type": "code",
   "execution_count": 4,
   "id": "1a597957",
   "metadata": {},
   "outputs": [],
   "source": [
    "input_fasta = \"/home/ubuntu/uniref50.fasta\"\n",
    "output_csv = os.path.join(os.path.dirname(input_fasta), \"uniprot50_perplexity.csv\")"
   ]
  },
  {
   "cell_type": "code",
   "execution_count": 66,
   "id": "e5a9df6b",
   "metadata": {},
   "outputs": [],
   "source": [
    "MAX_SEQUENCES = 10_000_000\n",
    "MAX_LEN = 10000 # set by resources\n",
    "DEVICE = \"cuda\""
   ]
  },
  {
   "cell_type": "code",
   "execution_count": 5,
   "id": "e946678a",
   "metadata": {},
   "outputs": [],
   "source": [
    "def compute_masked_perplexity(seq: str, lambda_tokens: int = 1):\n",
    "    data = [(\"protein\", seq)]\n",
    "    _, _, tokens = esm2_batch_converter(data)\n",
    "    tokens = tokens.to(DEVICE)\n",
    "    \n",
    "    seq_len = tokens.size(1)\n",
    "    valid_mask = (tokens != esm2_alphabet.padding_idx) & (tokens != esm2_alphabet.cls_idx) & (tokens != esm2_alphabet.eos_idx)\n",
    "    valid_indices = torch.where(valid_mask[0])[0]\n",
    "\n",
    "    if len(valid_indices) < lambda_tokens:\n",
    "        return None  # too short\n",
    "\n",
    "    # Sample λ random positions to mask\n",
    "    masked_indices = np.random.choice(valid_indices.cpu().numpy(), size=lambda_tokens, replace=False)\n",
    "    masked_tokens = tokens.clone()\n",
    "    masked_tokens[0, masked_indices] = esm2_alphabet.mask_idx\n",
    "\n",
    "    with torch.no_grad():\n",
    "        logits = esm2(masked_tokens)[\"logits\"]  # [1, seq_len, vocab_size]\n",
    "        log_probs = torch.nn.functional.log_softmax(logits, dim=-1)\n",
    "\n",
    "    # Gather true labels\n",
    "    target_tokens = tokens[0, masked_indices]  # [λ]\n",
    "    pred_log_probs = log_probs[0, masked_indices].gather(1, target_tokens.unsqueeze(1)).squeeze(1)  # [λ]\n",
    "\n",
    "    # Compute perplexity\n",
    "    masked_perplexity = torch.exp(-pred_log_probs.mean()).item()\n",
    "    return masked_perplexity"
   ]
  },
  {
   "cell_type": "code",
   "execution_count": 6,
   "id": "f79c5fac",
   "metadata": {},
   "outputs": [],
   "source": [
    "def estimate_masked_perplexity(seq: str, lambda_t: int = 10, num_samples: int = 5):\n",
    "    \"\"\"\n",
    "    Monte-Carlo Estimate of Masked Perplexity\n",
    "    \"\"\"\n",
    "    lambda_tokens = max(1, len(seq) // lambda_t)\n",
    "    data = [(\"protein\", seq)]\n",
    "    _, _, tokens = esm2_batch_converter(data)\n",
    "    tokens = tokens.to(DEVICE)\n",
    "\n",
    "    seq_len = tokens.size(1)\n",
    "    valid_mask = (tokens != esm2_alphabet.padding_idx) & (tokens != esm2_alphabet.cls_idx) & (tokens != esm2_alphabet.eos_idx)\n",
    "    valid_indices = torch.where(valid_mask[0])[0]\n",
    "\n",
    "    if len(valid_indices) < lambda_tokens:\n",
    "        return None\n",
    "\n",
    "    log_prob_samples = []\n",
    "\n",
    "    for _ in range(num_samples):\n",
    "        sampled_indices = np.random.choice(valid_indices.cpu().numpy(), size=lambda_tokens, replace=False)\n",
    "        masked_tokens = tokens.clone()\n",
    "        masked_tokens[0, sampled_indices] = esm2_alphabet.mask_idx\n",
    "\n",
    "        with torch.no_grad():\n",
    "            logits = esm2(masked_tokens)[\"logits\"]\n",
    "            log_probs = torch.nn.functional.log_softmax(logits, dim=-1)\n",
    "\n",
    "        target_tokens = tokens[0, sampled_indices]\n",
    "        pred_log_probs = log_probs[0, sampled_indices].gather(1, target_tokens.unsqueeze(1)).squeeze(1)\n",
    "        log_prob_samples.append(pred_log_probs.mean().item())\n",
    "\n",
    "    avg_log_prob = np.mean(log_prob_samples)\n",
    "    perplexity = np.exp(-avg_log_prob)\n",
    "    return perplexity\n"
   ]
  },
  {
   "cell_type": "code",
   "execution_count": null,
   "id": "bd84b5c2",
   "metadata": {},
   "outputs": [],
   "source": [
    "sequences = []\n",
    "perplexities = []\n",
    "ids = []\n"
   ]
  },
  {
   "cell_type": "code",
   "execution_count": 70,
   "id": "1d02fac3",
   "metadata": {},
   "outputs": [],
   "source": [
    "id_set = set(ids)"
   ]
  },
  {
   "cell_type": "code",
   "execution_count": 83,
   "id": "54b6b86a",
   "metadata": {},
   "outputs": [
    {
     "name": "stdout",
     "output_type": "stream",
     "text": [
      "skipping\n",
      "skipping\n",
      "skipping\n",
      "skipping\n",
      "skipping\n",
      "skipping\n",
      "skipping\n",
      "skipping\n",
      "skipping\n",
      "skipping\n",
      "skipping\n",
      "skipping\n",
      "skipping\n",
      "skipping\n",
      "skipping\n",
      "skipping\n",
      "skipping\n",
      "skipping\n",
      "skipping\n",
      "skipping\n",
      "skipping\n",
      "skipping\n",
      "skipping\n",
      "skipping\n",
      "skipping\n",
      "skipping\n",
      "skipping\n",
      "skipping\n",
      "skipping\n",
      "skipping\n",
      "skipping\n",
      "skipping\n",
      "skipping\n",
      "skipping\n",
      "skipping\n",
      "skipping\n",
      "skipping\n",
      "skipping\n",
      "skipping\n",
      "skipping\n",
      "skipping\n",
      "skipping\n",
      "skipping\n",
      "skipping\n",
      "skipping\n",
      "skipping\n",
      "skipping\n",
      "skipping\n",
      "skipping\n",
      "skipping\n",
      "skipping\n",
      "skipping\n",
      "skipping\n",
      "skipping\n",
      "skipping\n",
      "skipping\n",
      "skipping\n",
      "skipping\n",
      "skipping\n",
      "skipping\n",
      "skipping\n",
      "skipping\n",
      "skipping\n",
      "skipping\n",
      "skipping\n",
      "skipping\n",
      "skipping\n",
      "skipping\n",
      "skipping\n",
      "skipping\n",
      "skipping\n",
      "skipping\n",
      "skipping\n",
      "skipping\n",
      "skipping\n",
      "skipping\n",
      "skipping\n",
      "skipping\n",
      "skipping\n",
      "skipping\n",
      "skipping\n",
      "skipping\n",
      "skipping\n",
      "skipping\n",
      "skipping\n",
      "skipping\n",
      "skipping\n",
      "skipping\n",
      "skipping\n",
      "skipping\n",
      "skipping\n",
      "skipping\n",
      "skipping\n",
      "skipping\n",
      "skipping\n",
      "skipping\n",
      "skipping\n",
      "skipping\n",
      "skipping\n",
      "skipping\n",
      "skipping\n",
      "skipping\n",
      "skipping\n",
      "skipping\n",
      "skipping\n",
      "[2314] UniRef50_A0A6J2SWF6: Perplexity = 17.20\n",
      "[2342] UniRef50_A0A6G3T7L1: Perplexity = 13.31\n",
      "[2402] UniRef50_A0A286XBP0: Perplexity = 15.37\n",
      "[2403] UniRef50_A0A919AWI2: Perplexity = 14.03\n"
     ]
    },
    {
     "ename": "KeyboardInterrupt",
     "evalue": "",
     "output_type": "error",
     "traceback": [
      "\u001b[0;31m---------------------------------------------------------------------------\u001b[0m",
      "\u001b[0;31mKeyboardInterrupt\u001b[0m                         Traceback (most recent call last)",
      "Cell \u001b[0;32mIn[83], line 14\u001b[0m\n\u001b[1;32m     12\u001b[0m     \u001b[38;5;28;01mcontinue\u001b[39;00m\n\u001b[1;32m     13\u001b[0m \u001b[38;5;28;01mtry\u001b[39;00m:\n\u001b[0;32m---> 14\u001b[0m     ppl \u001b[38;5;241m=\u001b[39m \u001b[43mestimate_masked_perplexity\u001b[49m\u001b[43m(\u001b[49m\u001b[43mseq\u001b[49m\u001b[43m,\u001b[49m\u001b[43m \u001b[49m\u001b[43mlambda_t\u001b[49m\u001b[38;5;241;43m=\u001b[39;49m\u001b[38;5;241;43m20\u001b[39;49m\u001b[43m,\u001b[49m\u001b[43m \u001b[49m\u001b[43mnum_samples\u001b[49m\u001b[38;5;241;43m=\u001b[39;49m\u001b[38;5;241;43m1000\u001b[39;49m\u001b[43m)\u001b[49m\n\u001b[1;32m     15\u001b[0m     sequences\u001b[38;5;241m.\u001b[39mappend(seq)\n\u001b[1;32m     16\u001b[0m     perplexities\u001b[38;5;241m.\u001b[39mappend(ppl)\n",
      "Cell \u001b[0;32mIn[82], line 29\u001b[0m, in \u001b[0;36mestimate_masked_perplexity\u001b[0;34m(seq, lambda_t, num_samples)\u001b[0m\n\u001b[1;32m     26\u001b[0m         log_probs \u001b[38;5;241m=\u001b[39m torch\u001b[38;5;241m.\u001b[39mnn\u001b[38;5;241m.\u001b[39mfunctional\u001b[38;5;241m.\u001b[39mlog_softmax(logits, dim\u001b[38;5;241m=\u001b[39m\u001b[38;5;241m-\u001b[39m\u001b[38;5;241m1\u001b[39m)\n\u001b[1;32m     28\u001b[0m     target_tokens \u001b[38;5;241m=\u001b[39m tokens[\u001b[38;5;241m0\u001b[39m, sampled_indices]\n\u001b[0;32m---> 29\u001b[0m     pred_log_probs \u001b[38;5;241m=\u001b[39m log_probs[\u001b[38;5;241m0\u001b[39m, sampled_indices]\u001b[38;5;241m.\u001b[39mgather(\u001b[38;5;241m1\u001b[39m, \u001b[43mtarget_tokens\u001b[49m\u001b[38;5;241;43m.\u001b[39;49m\u001b[43munsqueeze\u001b[49m\u001b[43m(\u001b[49m\u001b[38;5;241;43m1\u001b[39;49m\u001b[43m)\u001b[49m)\u001b[38;5;241m.\u001b[39msqueeze(\u001b[38;5;241m1\u001b[39m)\n\u001b[1;32m     30\u001b[0m     log_prob_samples\u001b[38;5;241m.\u001b[39mappend(pred_log_probs\u001b[38;5;241m.\u001b[39mmean()\u001b[38;5;241m.\u001b[39mitem())\n\u001b[1;32m     32\u001b[0m avg_log_prob \u001b[38;5;241m=\u001b[39m np\u001b[38;5;241m.\u001b[39mmean(log_prob_samples)\n",
      "\u001b[0;31mKeyboardInterrupt\u001b[0m: "
     ]
    }
   ],
   "source": [
    "with open(input_fasta) as handle:\n",
    "    for i, record in enumerate(SeqIO.parse(handle, \"fasta\")):\n",
    "        if i >= MAX_SEQUENCES:\n",
    "            break\n",
    "        seq = str(record.seq)\n",
    "        if \"X\" in seq:\n",
    "            continue\n",
    "        if len(seq) > MAX_LEN:\n",
    "            continue\n",
    "        if record.id in id_set:\n",
    "            print(\"skipping\")\n",
    "            continue\n",
    "        try:\n",
    "            ppl = estimate_masked_perplexity(seq, lambda_t=20, num_samples=1000)\n",
    "            sequences.append(seq)\n",
    "            perplexities.append(ppl)\n",
    "            ids.append(record.id)\n",
    "            id_set.add(record.id)\n",
    "            print(f\"[{i}] {record.id}: Perplexity = {ppl:.2f}\")\n",
    "        except Exception as e:\n",
    "            print(f\"Error on sequence {record.id}: {e}\")\n"
   ]
  },
  {
   "cell_type": "code",
   "execution_count": 84,
   "id": "b7dfc4ff",
   "metadata": {},
   "outputs": [
    {
     "data": {
      "text/plain": [
       "Text(0, 0.5, 'Frequency')"
      ]
     },
     "execution_count": 84,
     "metadata": {},
     "output_type": "execute_result"
    },
    {
     "data": {
      "image/png": "[encoded data removed]",
      "text/plain": [
       "<Figure size 640x480 with 1 Axes>"
      ]
     },
     "metadata": {},
     "output_type": "display_data"
    }
   ],
   "source": [
    "plt.hist(perplexities, bins=50)\n",
    "plt.title(\"Monte-Carlo Masked Perplexities\")\n",
    "plt.xlabel(\"Mean Perplexity Score\")\n",
    "plt.ylabel(\"Frequency\")\n"
   ]
  },
  {
   "cell_type": "code",
   "execution_count": 85,
   "id": "21a8769c",
   "metadata": {},
   "outputs": [
    {
     "data": {
      "text/html": [
       "<div>\n",
       "<style scoped>\n",
       "    .dataframe tbody tr th:only-of-type {\n",
       "        vertical-align: middle;\n",
       "    }\n",
       "\n",
       "    .dataframe tbody tr th {\n",
       "        vertical-align: top;\n",
       "    }\n",
       "\n",
       "    .dataframe thead th {\n",
       "        text-align: right;\n",
       "    }\n",
       "</style>\n",
       "<table border=\"1\" class=\"dataframe\">\n",
       "  <thead>\n",
       "    <tr style=\"text-align: right;\">\n",
       "      <th></th>\n",
       "      <th>perplexity</th>\n",
       "    </tr>\n",
       "  </thead>\n",
       "  <tbody>\n",
       "    <tr>\n",
       "      <th>count</th>\n",
       "      <td>114.000000</td>\n",
       "    </tr>\n",
       "    <tr>\n",
       "      <th>mean</th>\n",
       "      <td>12.176537</td>\n",
       "    </tr>\n",
       "    <tr>\n",
       "      <th>std</th>\n",
       "      <td>4.234370</td>\n",
       "    </tr>\n",
       "    <tr>\n",
       "      <th>min</th>\n",
       "      <td>1.011894</td>\n",
       "    </tr>\n",
       "    <tr>\n",
       "      <th>25%</th>\n",
       "      <td>8.645400</td>\n",
       "    </tr>\n",
       "    <tr>\n",
       "      <th>50%</th>\n",
       "      <td>12.841856</td>\n",
       "    </tr>\n",
       "    <tr>\n",
       "      <th>75%</th>\n",
       "      <td>15.417655</td>\n",
       "    </tr>\n",
       "    <tr>\n",
       "      <th>max</th>\n",
       "      <td>22.247514</td>\n",
       "    </tr>\n",
       "  </tbody>\n",
       "</table>\n",
       "</div>"
      ],
      "text/plain": [
       "       perplexity\n",
       "count  114.000000\n",
       "mean    12.176537\n",
       "std      4.234370\n",
       "min      1.011894\n",
       "25%      8.645400\n",
       "50%     12.841856\n",
       "75%     15.417655\n",
       "max     22.247514"
      ]
     },
     "execution_count": 85,
     "metadata": {},
     "output_type": "execute_result"
    }
   ],
   "source": [
    "df = pd.DataFrame(\n",
    "    {\n",
    "    \"sequence\" : sequences,\n",
    "    \"perplexity\" : perplexities,\n",
    "    \"unprot_id\" : ids\n",
    "    }\n",
    ")\n",
    "\n",
    "df.to_csv(\"biochemical_benchmarks/perplexity_sample_1.csv\")\n",
    "df.describe().to_csv(\"biochemical_benchmarks/perplexity_sample_1_simple_stats.csv\")\n",
    "df.describe()"
   ]
  },
  {
   "cell_type": "code",
   "execution_count": 86,
   "id": "041d41a6",
   "metadata": {},
   "outputs": [
    {
     "data": {
      "image/png": "[encoded data removed]",
      "text/plain": [
       "<Figure size 600x400 with 1 Axes>"
      ]
     },
     "metadata": {},
     "output_type": "display_data"
    }
   ],
   "source": [
    "sample_seq = \"MNYRCVKNGRKCEMIESHERKKTMVIVNYYTLQAALHMLIKATHISRVRIDKGGEAMGMQACYPNNTNTQGGPELMLSCKVAFNTAIMPQDKGPRYLLGWWPADKGDTSANRRRWGQDA\"\n",
    "new_sample_score = estimate_masked_perplexity(sample_seq, lambda_t=20, num_samples=100)\n",
    "\n",
    "sns.set(style=\"whitegrid\")\n",
    "plt.figure(figsize=(6, 4))\n",
    "sns.histplot(perplexities, bins=50, kde=True)\n",
    "plt.axvline(new_sample_score, color='red', linestyle='--', linewidth=2, label='Steered Zinc Finger')\n",
    "plt.title(\"Monte-Carlo Masked Perplexities\")\n",
    "plt.xlabel(\"Mean Perplexity Score\")\n",
    "plt.ylabel(\"Frequency\")\n",
    "plt.legend()\n",
    "plt.tight_layout()\n",
    "plt.show()\n"
   ]
  },
  {
   "cell_type": "code",
   "execution_count": null,
   "id": "79b382f6",
   "metadata": {},
   "outputs": [],
   "source": []
  }
 ],
 "metadata": {
  "kernelspec": {
   "display_name": "protein_env",
   "language": "python",
   "name": "python3"
  },
  "language_info": {
   "codemirror_mode": {
    "name": "ipython",
    "version": 3
   },
   "file_extension": ".py",
   "mimetype": "text/x-python",
   "name": "python",
   "nbconvert_exporter": "python",
   "pygments_lexer": "ipython3",
   "version": "3.10.18"
  }
 },
 "nbformat": 4,
 "nbformat_minor": 5
}
